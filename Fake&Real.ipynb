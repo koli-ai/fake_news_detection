{
  "nbformat": 4,
  "nbformat_minor": 0,
  "metadata": {
    "colab": {
      "provenance": []
    },
    "kernelspec": {
      "name": "python3",
      "display_name": "Python 3"
    },
    "language_info": {
      "name": "python"
    },
    "accelerator": "GPU",
    "gpuClass": "standard"
  },
  "cells": [
    {
      "cell_type": "code",
      "source": [
        "import numpy as np\n",
        "import pandas as pd\n",
        "import matplotlib.pyplot as plt\n",
        "from keras.preprocessing import text, sequence\n",
        "from keras.models import Sequential\n",
        "from keras.layers import Dense,Embedding,LSTM,Dropout\n",
        "from sklearn.model_selection import train_test_split\n",
        "from tensorflow.keras.preprocessing.sequence import pad_sequences"
      ],
      "metadata": {
        "id": "l2wa5qY59_0C"
      },
      "execution_count": null,
      "outputs": []
    },
    {
      "cell_type": "markdown",
      "source": [
        "# Data Pre-Processing"
      ],
      "metadata": {
        "id": "ZOiZdzFSFSKm"
      }
    },
    {
      "cell_type": "code",
      "source": [
        "true = pd.read_csv(\"/content/drive/MyDrive/Deep Learning/Dataset/True.csv\")\n",
        "false = pd.read_csv(\"/content/drive/MyDrive/Deep Learning/Dataset/Fake.csv\")\n",
        "true['category'] = 1\n",
        "false['category'] = 0\n",
        "\n",
        "df = pd.concat([true,false])"
      ],
      "metadata": {
        "id": "rdCtiQGf-LWD"
      },
      "execution_count": null,
      "outputs": []
    },
    {
      "cell_type": "code",
      "source": [
        "df"
      ],
      "metadata": {
        "colab": {
          "base_uri": "https://localhost:8080/",
          "height": 423
        },
        "id": "3ryUfh8AIDfy",
        "outputId": "9d3ecd72-eb3c-44b0-c512-aca123193452"
      },
      "execution_count": null,
      "outputs": [
        {
          "output_type": "execute_result",
          "data": {
            "text/plain": [
              "                                                   title  \\\n",
              "0      As U.S. budget fight looms, Republicans flip t...   \n",
              "1      U.S. military to accept transgender recruits o...   \n",
              "2      Senior U.S. Republican senator: 'Let Mr. Muell...   \n",
              "3      FBI Russia probe helped by Australian diplomat...   \n",
              "4      Trump wants Postal Service to charge 'much mor...   \n",
              "...                                                  ...   \n",
              "23476  McPain: John McCain Furious That Iran Treated ...   \n",
              "23477  JUSTICE? Yahoo Settles E-mail Privacy Class-ac...   \n",
              "23478  Sunnistan: US and Allied ‘Safe Zone’ Plan to T...   \n",
              "23479  How to Blow $700 Million: Al Jazeera America F...   \n",
              "23480  10 U.S. Navy Sailors Held by Iranian Military ...   \n",
              "\n",
              "                                                    text       subject  \\\n",
              "0      WASHINGTON (Reuters) - The head of a conservat...  politicsNews   \n",
              "1      WASHINGTON (Reuters) - Transgender people will...  politicsNews   \n",
              "2      WASHINGTON (Reuters) - The special counsel inv...  politicsNews   \n",
              "3      WASHINGTON (Reuters) - Trump campaign adviser ...  politicsNews   \n",
              "4      SEATTLE/WASHINGTON (Reuters) - President Donal...  politicsNews   \n",
              "...                                                  ...           ...   \n",
              "23476  21st Century Wire says As 21WIRE reported earl...   Middle-east   \n",
              "23477  21st Century Wire says It s a familiar theme. ...   Middle-east   \n",
              "23478  Patrick Henningsen  21st Century WireRemember ...   Middle-east   \n",
              "23479  21st Century Wire says Al Jazeera America will...   Middle-east   \n",
              "23480  21st Century Wire says As 21WIRE predicted in ...   Middle-east   \n",
              "\n",
              "                     date  category  \n",
              "0      December 31, 2017          1  \n",
              "1      December 29, 2017          1  \n",
              "2      December 31, 2017          1  \n",
              "3      December 30, 2017          1  \n",
              "4      December 29, 2017          1  \n",
              "...                   ...       ...  \n",
              "23476    January 16, 2016         0  \n",
              "23477    January 16, 2016         0  \n",
              "23478    January 15, 2016         0  \n",
              "23479    January 14, 2016         0  \n",
              "23480    January 12, 2016         0  \n",
              "\n",
              "[44898 rows x 5 columns]"
            ],
            "text/html": [
              "\n",
              "  <div id=\"df-4727dac1-ab9b-4512-ab07-ebe8aba97c43\">\n",
              "    <div class=\"colab-df-container\">\n",
              "      <div>\n",
              "<style scoped>\n",
              "    .dataframe tbody tr th:only-of-type {\n",
              "        vertical-align: middle;\n",
              "    }\n",
              "\n",
              "    .dataframe tbody tr th {\n",
              "        vertical-align: top;\n",
              "    }\n",
              "\n",
              "    .dataframe thead th {\n",
              "        text-align: right;\n",
              "    }\n",
              "</style>\n",
              "<table border=\"1\" class=\"dataframe\">\n",
              "  <thead>\n",
              "    <tr style=\"text-align: right;\">\n",
              "      <th></th>\n",
              "      <th>title</th>\n",
              "      <th>text</th>\n",
              "      <th>subject</th>\n",
              "      <th>date</th>\n",
              "      <th>category</th>\n",
              "    </tr>\n",
              "  </thead>\n",
              "  <tbody>\n",
              "    <tr>\n",
              "      <th>0</th>\n",
              "      <td>As U.S. budget fight looms, Republicans flip t...</td>\n",
              "      <td>WASHINGTON (Reuters) - The head of a conservat...</td>\n",
              "      <td>politicsNews</td>\n",
              "      <td>December 31, 2017</td>\n",
              "      <td>1</td>\n",
              "    </tr>\n",
              "    <tr>\n",
              "      <th>1</th>\n",
              "      <td>U.S. military to accept transgender recruits o...</td>\n",
              "      <td>WASHINGTON (Reuters) - Transgender people will...</td>\n",
              "      <td>politicsNews</td>\n",
              "      <td>December 29, 2017</td>\n",
              "      <td>1</td>\n",
              "    </tr>\n",
              "    <tr>\n",
              "      <th>2</th>\n",
              "      <td>Senior U.S. Republican senator: 'Let Mr. Muell...</td>\n",
              "      <td>WASHINGTON (Reuters) - The special counsel inv...</td>\n",
              "      <td>politicsNews</td>\n",
              "      <td>December 31, 2017</td>\n",
              "      <td>1</td>\n",
              "    </tr>\n",
              "    <tr>\n",
              "      <th>3</th>\n",
              "      <td>FBI Russia probe helped by Australian diplomat...</td>\n",
              "      <td>WASHINGTON (Reuters) - Trump campaign adviser ...</td>\n",
              "      <td>politicsNews</td>\n",
              "      <td>December 30, 2017</td>\n",
              "      <td>1</td>\n",
              "    </tr>\n",
              "    <tr>\n",
              "      <th>4</th>\n",
              "      <td>Trump wants Postal Service to charge 'much mor...</td>\n",
              "      <td>SEATTLE/WASHINGTON (Reuters) - President Donal...</td>\n",
              "      <td>politicsNews</td>\n",
              "      <td>December 29, 2017</td>\n",
              "      <td>1</td>\n",
              "    </tr>\n",
              "    <tr>\n",
              "      <th>...</th>\n",
              "      <td>...</td>\n",
              "      <td>...</td>\n",
              "      <td>...</td>\n",
              "      <td>...</td>\n",
              "      <td>...</td>\n",
              "    </tr>\n",
              "    <tr>\n",
              "      <th>23476</th>\n",
              "      <td>McPain: John McCain Furious That Iran Treated ...</td>\n",
              "      <td>21st Century Wire says As 21WIRE reported earl...</td>\n",
              "      <td>Middle-east</td>\n",
              "      <td>January 16, 2016</td>\n",
              "      <td>0</td>\n",
              "    </tr>\n",
              "    <tr>\n",
              "      <th>23477</th>\n",
              "      <td>JUSTICE? Yahoo Settles E-mail Privacy Class-ac...</td>\n",
              "      <td>21st Century Wire says It s a familiar theme. ...</td>\n",
              "      <td>Middle-east</td>\n",
              "      <td>January 16, 2016</td>\n",
              "      <td>0</td>\n",
              "    </tr>\n",
              "    <tr>\n",
              "      <th>23478</th>\n",
              "      <td>Sunnistan: US and Allied ‘Safe Zone’ Plan to T...</td>\n",
              "      <td>Patrick Henningsen  21st Century WireRemember ...</td>\n",
              "      <td>Middle-east</td>\n",
              "      <td>January 15, 2016</td>\n",
              "      <td>0</td>\n",
              "    </tr>\n",
              "    <tr>\n",
              "      <th>23479</th>\n",
              "      <td>How to Blow $700 Million: Al Jazeera America F...</td>\n",
              "      <td>21st Century Wire says Al Jazeera America will...</td>\n",
              "      <td>Middle-east</td>\n",
              "      <td>January 14, 2016</td>\n",
              "      <td>0</td>\n",
              "    </tr>\n",
              "    <tr>\n",
              "      <th>23480</th>\n",
              "      <td>10 U.S. Navy Sailors Held by Iranian Military ...</td>\n",
              "      <td>21st Century Wire says As 21WIRE predicted in ...</td>\n",
              "      <td>Middle-east</td>\n",
              "      <td>January 12, 2016</td>\n",
              "      <td>0</td>\n",
              "    </tr>\n",
              "  </tbody>\n",
              "</table>\n",
              "<p>44898 rows × 5 columns</p>\n",
              "</div>\n",
              "      <button class=\"colab-df-convert\" onclick=\"convertToInteractive('df-4727dac1-ab9b-4512-ab07-ebe8aba97c43')\"\n",
              "              title=\"Convert this dataframe to an interactive table.\"\n",
              "              style=\"display:none;\">\n",
              "        \n",
              "  <svg xmlns=\"http://www.w3.org/2000/svg\" height=\"24px\"viewBox=\"0 0 24 24\"\n",
              "       width=\"24px\">\n",
              "    <path d=\"M0 0h24v24H0V0z\" fill=\"none\"/>\n",
              "    <path d=\"M18.56 5.44l.94 2.06.94-2.06 2.06-.94-2.06-.94-.94-2.06-.94 2.06-2.06.94zm-11 1L8.5 8.5l.94-2.06 2.06-.94-2.06-.94L8.5 2.5l-.94 2.06-2.06.94zm10 10l.94 2.06.94-2.06 2.06-.94-2.06-.94-.94-2.06-.94 2.06-2.06.94z\"/><path d=\"M17.41 7.96l-1.37-1.37c-.4-.4-.92-.59-1.43-.59-.52 0-1.04.2-1.43.59L10.3 9.45l-7.72 7.72c-.78.78-.78 2.05 0 2.83L4 21.41c.39.39.9.59 1.41.59.51 0 1.02-.2 1.41-.59l7.78-7.78 2.81-2.81c.8-.78.8-2.07 0-2.86zM5.41 20L4 18.59l7.72-7.72 1.47 1.35L5.41 20z\"/>\n",
              "  </svg>\n",
              "      </button>\n",
              "      \n",
              "  <style>\n",
              "    .colab-df-container {\n",
              "      display:flex;\n",
              "      flex-wrap:wrap;\n",
              "      gap: 12px;\n",
              "    }\n",
              "\n",
              "    .colab-df-convert {\n",
              "      background-color: #E8F0FE;\n",
              "      border: none;\n",
              "      border-radius: 50%;\n",
              "      cursor: pointer;\n",
              "      display: none;\n",
              "      fill: #1967D2;\n",
              "      height: 32px;\n",
              "      padding: 0 0 0 0;\n",
              "      width: 32px;\n",
              "    }\n",
              "\n",
              "    .colab-df-convert:hover {\n",
              "      background-color: #E2EBFA;\n",
              "      box-shadow: 0px 1px 2px rgba(60, 64, 67, 0.3), 0px 1px 3px 1px rgba(60, 64, 67, 0.15);\n",
              "      fill: #174EA6;\n",
              "    }\n",
              "\n",
              "    [theme=dark] .colab-df-convert {\n",
              "      background-color: #3B4455;\n",
              "      fill: #D2E3FC;\n",
              "    }\n",
              "\n",
              "    [theme=dark] .colab-df-convert:hover {\n",
              "      background-color: #434B5C;\n",
              "      box-shadow: 0px 1px 3px 1px rgba(0, 0, 0, 0.15);\n",
              "      filter: drop-shadow(0px 1px 2px rgba(0, 0, 0, 0.3));\n",
              "      fill: #FFFFFF;\n",
              "    }\n",
              "  </style>\n",
              "\n",
              "      <script>\n",
              "        const buttonEl =\n",
              "          document.querySelector('#df-4727dac1-ab9b-4512-ab07-ebe8aba97c43 button.colab-df-convert');\n",
              "        buttonEl.style.display =\n",
              "          google.colab.kernel.accessAllowed ? 'block' : 'none';\n",
              "\n",
              "        async function convertToInteractive(key) {\n",
              "          const element = document.querySelector('#df-4727dac1-ab9b-4512-ab07-ebe8aba97c43');\n",
              "          const dataTable =\n",
              "            await google.colab.kernel.invokeFunction('convertToInteractive',\n",
              "                                                     [key], {});\n",
              "          if (!dataTable) return;\n",
              "\n",
              "          const docLinkHtml = 'Like what you see? Visit the ' +\n",
              "            '<a target=\"_blank\" href=https://colab.research.google.com/notebooks/data_table.ipynb>data table notebook</a>'\n",
              "            + ' to learn more about interactive tables.';\n",
              "          element.innerHTML = '';\n",
              "          dataTable['output_type'] = 'display_data';\n",
              "          await google.colab.output.renderOutput(dataTable, element);\n",
              "          const docLink = document.createElement('div');\n",
              "          docLink.innerHTML = docLinkHtml;\n",
              "          element.appendChild(docLink);\n",
              "        }\n",
              "      </script>\n",
              "    </div>\n",
              "  </div>\n",
              "  "
            ]
          },
          "metadata": {},
          "execution_count": 3
        }
      ]
    },
    {
      "cell_type": "code",
      "source": [
        "df['text'] = df['text'] + \" \" + df['title']\n",
        "del df['title']\n",
        "del df['subject']\n",
        "del df['date']"
      ],
      "metadata": {
        "id": "bN65wjGAA9vT"
      },
      "execution_count": null,
      "outputs": []
    },
    {
      "cell_type": "code",
      "source": [
        "df"
      ],
      "metadata": {
        "colab": {
          "base_uri": "https://localhost:8080/",
          "height": 423
        },
        "id": "yjIH8llXAyoj",
        "outputId": "4ddbf0cb-8f32-45a2-d6a8-b7feeb3d6e50"
      },
      "execution_count": null,
      "outputs": [
        {
          "output_type": "execute_result",
          "data": {
            "text/plain": [
              "                                                    text  category\n",
              "0      WASHINGTON (Reuters) - The head of a conservat...         1\n",
              "1      WASHINGTON (Reuters) - Transgender people will...         1\n",
              "2      WASHINGTON (Reuters) - The special counsel inv...         1\n",
              "3      WASHINGTON (Reuters) - Trump campaign adviser ...         1\n",
              "4      SEATTLE/WASHINGTON (Reuters) - President Donal...         1\n",
              "...                                                  ...       ...\n",
              "23476  21st Century Wire says As 21WIRE reported earl...         0\n",
              "23477  21st Century Wire says It s a familiar theme. ...         0\n",
              "23478  Patrick Henningsen  21st Century WireRemember ...         0\n",
              "23479  21st Century Wire says Al Jazeera America will...         0\n",
              "23480  21st Century Wire says As 21WIRE predicted in ...         0\n",
              "\n",
              "[44898 rows x 2 columns]"
            ],
            "text/html": [
              "\n",
              "  <div id=\"df-08eaaf8c-b664-4dd2-9860-12148e09d000\">\n",
              "    <div class=\"colab-df-container\">\n",
              "      <div>\n",
              "<style scoped>\n",
              "    .dataframe tbody tr th:only-of-type {\n",
              "        vertical-align: middle;\n",
              "    }\n",
              "\n",
              "    .dataframe tbody tr th {\n",
              "        vertical-align: top;\n",
              "    }\n",
              "\n",
              "    .dataframe thead th {\n",
              "        text-align: right;\n",
              "    }\n",
              "</style>\n",
              "<table border=\"1\" class=\"dataframe\">\n",
              "  <thead>\n",
              "    <tr style=\"text-align: right;\">\n",
              "      <th></th>\n",
              "      <th>text</th>\n",
              "      <th>category</th>\n",
              "    </tr>\n",
              "  </thead>\n",
              "  <tbody>\n",
              "    <tr>\n",
              "      <th>0</th>\n",
              "      <td>WASHINGTON (Reuters) - The head of a conservat...</td>\n",
              "      <td>1</td>\n",
              "    </tr>\n",
              "    <tr>\n",
              "      <th>1</th>\n",
              "      <td>WASHINGTON (Reuters) - Transgender people will...</td>\n",
              "      <td>1</td>\n",
              "    </tr>\n",
              "    <tr>\n",
              "      <th>2</th>\n",
              "      <td>WASHINGTON (Reuters) - The special counsel inv...</td>\n",
              "      <td>1</td>\n",
              "    </tr>\n",
              "    <tr>\n",
              "      <th>3</th>\n",
              "      <td>WASHINGTON (Reuters) - Trump campaign adviser ...</td>\n",
              "      <td>1</td>\n",
              "    </tr>\n",
              "    <tr>\n",
              "      <th>4</th>\n",
              "      <td>SEATTLE/WASHINGTON (Reuters) - President Donal...</td>\n",
              "      <td>1</td>\n",
              "    </tr>\n",
              "    <tr>\n",
              "      <th>...</th>\n",
              "      <td>...</td>\n",
              "      <td>...</td>\n",
              "    </tr>\n",
              "    <tr>\n",
              "      <th>23476</th>\n",
              "      <td>21st Century Wire says As 21WIRE reported earl...</td>\n",
              "      <td>0</td>\n",
              "    </tr>\n",
              "    <tr>\n",
              "      <th>23477</th>\n",
              "      <td>21st Century Wire says It s a familiar theme. ...</td>\n",
              "      <td>0</td>\n",
              "    </tr>\n",
              "    <tr>\n",
              "      <th>23478</th>\n",
              "      <td>Patrick Henningsen  21st Century WireRemember ...</td>\n",
              "      <td>0</td>\n",
              "    </tr>\n",
              "    <tr>\n",
              "      <th>23479</th>\n",
              "      <td>21st Century Wire says Al Jazeera America will...</td>\n",
              "      <td>0</td>\n",
              "    </tr>\n",
              "    <tr>\n",
              "      <th>23480</th>\n",
              "      <td>21st Century Wire says As 21WIRE predicted in ...</td>\n",
              "      <td>0</td>\n",
              "    </tr>\n",
              "  </tbody>\n",
              "</table>\n",
              "<p>44898 rows × 2 columns</p>\n",
              "</div>\n",
              "      <button class=\"colab-df-convert\" onclick=\"convertToInteractive('df-08eaaf8c-b664-4dd2-9860-12148e09d000')\"\n",
              "              title=\"Convert this dataframe to an interactive table.\"\n",
              "              style=\"display:none;\">\n",
              "        \n",
              "  <svg xmlns=\"http://www.w3.org/2000/svg\" height=\"24px\"viewBox=\"0 0 24 24\"\n",
              "       width=\"24px\">\n",
              "    <path d=\"M0 0h24v24H0V0z\" fill=\"none\"/>\n",
              "    <path d=\"M18.56 5.44l.94 2.06.94-2.06 2.06-.94-2.06-.94-.94-2.06-.94 2.06-2.06.94zm-11 1L8.5 8.5l.94-2.06 2.06-.94-2.06-.94L8.5 2.5l-.94 2.06-2.06.94zm10 10l.94 2.06.94-2.06 2.06-.94-2.06-.94-.94-2.06-.94 2.06-2.06.94z\"/><path d=\"M17.41 7.96l-1.37-1.37c-.4-.4-.92-.59-1.43-.59-.52 0-1.04.2-1.43.59L10.3 9.45l-7.72 7.72c-.78.78-.78 2.05 0 2.83L4 21.41c.39.39.9.59 1.41.59.51 0 1.02-.2 1.41-.59l7.78-7.78 2.81-2.81c.8-.78.8-2.07 0-2.86zM5.41 20L4 18.59l7.72-7.72 1.47 1.35L5.41 20z\"/>\n",
              "  </svg>\n",
              "      </button>\n",
              "      \n",
              "  <style>\n",
              "    .colab-df-container {\n",
              "      display:flex;\n",
              "      flex-wrap:wrap;\n",
              "      gap: 12px;\n",
              "    }\n",
              "\n",
              "    .colab-df-convert {\n",
              "      background-color: #E8F0FE;\n",
              "      border: none;\n",
              "      border-radius: 50%;\n",
              "      cursor: pointer;\n",
              "      display: none;\n",
              "      fill: #1967D2;\n",
              "      height: 32px;\n",
              "      padding: 0 0 0 0;\n",
              "      width: 32px;\n",
              "    }\n",
              "\n",
              "    .colab-df-convert:hover {\n",
              "      background-color: #E2EBFA;\n",
              "      box-shadow: 0px 1px 2px rgba(60, 64, 67, 0.3), 0px 1px 3px 1px rgba(60, 64, 67, 0.15);\n",
              "      fill: #174EA6;\n",
              "    }\n",
              "\n",
              "    [theme=dark] .colab-df-convert {\n",
              "      background-color: #3B4455;\n",
              "      fill: #D2E3FC;\n",
              "    }\n",
              "\n",
              "    [theme=dark] .colab-df-convert:hover {\n",
              "      background-color: #434B5C;\n",
              "      box-shadow: 0px 1px 3px 1px rgba(0, 0, 0, 0.15);\n",
              "      filter: drop-shadow(0px 1px 2px rgba(0, 0, 0, 0.3));\n",
              "      fill: #FFFFFF;\n",
              "    }\n",
              "  </style>\n",
              "\n",
              "      <script>\n",
              "        const buttonEl =\n",
              "          document.querySelector('#df-08eaaf8c-b664-4dd2-9860-12148e09d000 button.colab-df-convert');\n",
              "        buttonEl.style.display =\n",
              "          google.colab.kernel.accessAllowed ? 'block' : 'none';\n",
              "\n",
              "        async function convertToInteractive(key) {\n",
              "          const element = document.querySelector('#df-08eaaf8c-b664-4dd2-9860-12148e09d000');\n",
              "          const dataTable =\n",
              "            await google.colab.kernel.invokeFunction('convertToInteractive',\n",
              "                                                     [key], {});\n",
              "          if (!dataTable) return;\n",
              "\n",
              "          const docLinkHtml = 'Like what you see? Visit the ' +\n",
              "            '<a target=\"_blank\" href=https://colab.research.google.com/notebooks/data_table.ipynb>data table notebook</a>'\n",
              "            + ' to learn more about interactive tables.';\n",
              "          element.innerHTML = '';\n",
              "          dataTable['output_type'] = 'display_data';\n",
              "          await google.colab.output.renderOutput(dataTable, element);\n",
              "          const docLink = document.createElement('div');\n",
              "          docLink.innerHTML = docLinkHtml;\n",
              "          element.appendChild(docLink);\n",
              "        }\n",
              "      </script>\n",
              "    </div>\n",
              "  </div>\n",
              "  "
            ]
          },
          "metadata": {},
          "execution_count": 5
        }
      ]
    },
    {
      "cell_type": "markdown",
      "source": [
        "# Tokenization and Padding"
      ],
      "metadata": {
        "id": "RSKduvcJFXPP"
      }
    },
    {
      "cell_type": "code",
      "source": [
        "max_features = 5000\n",
        "maxlen = 25\n",
        "\n",
        "tokenizer = text.Tokenizer(num_words=max_features)\n",
        "tokenizer.fit_on_texts(df.text)\n",
        "\n",
        "X_train,X_test,y_train,y_test = train_test_split(df.text,df.category,test_size = 0.2)\n",
        "\n",
        "X_train_t = tokenizer.texts_to_sequences(X_train)\n",
        "X_train_t = pad_sequences(X_train_t, maxlen=maxlen)\n",
        "\n",
        "X_test_t = tokenizer.texts_to_sequences(X_test)\n",
        "X_test_t = pad_sequences(X_test_t, maxlen=maxlen)"
      ],
      "metadata": {
        "id": "czYiDGLf0sR1"
      },
      "execution_count": null,
      "outputs": []
    },
    {
      "cell_type": "markdown",
      "source": [
        "# Model"
      ],
      "metadata": {
        "id": "9OTVJ2gAFa_2"
      }
    },
    {
      "cell_type": "code",
      "source": [
        "batch_size = 64\n",
        "max_features = 5000\n",
        "maxlen = 25\n",
        "model = Sequential()\n",
        "model.add(Embedding(max_features, 200, input_length=maxlen))\n",
        "model.add(LSTM(16,dropout=0.1,recurrent_dropout=0.1))\n",
        "model.add(Dense(1, activation='sigmoid'))\n",
        "model.compile(loss='binary_crossentropy', optimizer='adam', metrics=['accuracy'])\n",
        "model.summary()"
      ],
      "metadata": {
        "colab": {
          "base_uri": "https://localhost:8080/"
        },
        "id": "aMAZvLP7UsCu",
        "outputId": "b701a911-a338-413d-8bee-9d27dc7f738e"
      },
      "execution_count": null,
      "outputs": [
        {
          "output_type": "stream",
          "name": "stderr",
          "text": [
            "WARNING:tensorflow:Layer lstm will not use cuDNN kernels since it doesn't meet the criteria. It will use a generic GPU kernel as fallback when running on GPU.\n"
          ]
        },
        {
          "output_type": "stream",
          "name": "stdout",
          "text": [
            "Model: \"sequential\"\n",
            "_________________________________________________________________\n",
            " Layer (type)                Output Shape              Param #   \n",
            "=================================================================\n",
            " embedding (Embedding)       (None, 25, 200)           1000000   \n",
            "                                                                 \n",
            " lstm (LSTM)                 (None, 16)                13888     \n",
            "                                                                 \n",
            " dense (Dense)               (None, 1)                 17        \n",
            "                                                                 \n",
            "=================================================================\n",
            "Total params: 1,013,905\n",
            "Trainable params: 1,013,905\n",
            "Non-trainable params: 0\n",
            "_________________________________________________________________\n"
          ]
        }
      ]
    },
    {
      "cell_type": "markdown",
      "source": [
        "# Training with K-Fold"
      ],
      "metadata": {
        "id": "RZwiJMYjFd9G"
      }
    },
    {
      "cell_type": "code",
      "source": [
        "from sklearn.model_selection import cross_val_score,KFold"
      ],
      "metadata": {
        "id": "PFWOVjwErfur"
      },
      "execution_count": null,
      "outputs": []
    },
    {
      "cell_type": "code",
      "source": [
        "kf = KFold(n_splits=5)\n",
        "scores = []\n",
        "pred_mat = []\n",
        "import matplotlib.pyplot as plt\n",
        "from sklearn import metrics\n",
        "\n",
        "for i,(train_index, test_index) in enumerate(kf.split(X_train_t,y_train)):\n",
        "\n",
        "  print(f\"i = {i} >>>>>> Test Index: {test_index[0]} - {test_index[-1]}\")\n",
        "\n",
        "  X_trainK, X_testK, y_trainK, y_testK = X_train_t[train_index[0]:train_index[-1]], X_train_t[test_index[0]:test_index[-1]], y_train[train_index[0]:train_index[-1]], y_train[test_index[0]:test_index[-1]]\n",
        "\n",
        "  model.fit(X_trainK, y_trainK,epochs = 1,batch_size=batch_size)\n",
        "  scores.append(model.evaluate(X_testK, y_testK)[1])\n",
        "\n",
        "  print(scores)"
      ],
      "metadata": {
        "colab": {
          "base_uri": "https://localhost:8080/"
        },
        "id": "ONyMV0BasEzh",
        "outputId": "ab5277d3-aae8-4d03-df05-06e6db19843e"
      },
      "execution_count": null,
      "outputs": [
        {
          "output_type": "stream",
          "name": "stdout",
          "text": [
            "i = 0 >>>>>> Test Index: 0 - 7183\n",
            "449/449 [==============================] - 89s 181ms/step - loss: 0.1330 - accuracy: 0.9629\n",
            "225/225 [==============================] - 4s 14ms/step - loss: 0.0425 - accuracy: 0.9880\n",
            "[0.9880272746086121]\n",
            "i = 1 >>>>>> Test Index: 7184 - 14367\n",
            "562/562 [==============================] - 75s 133ms/step - loss: 0.0239 - accuracy: 0.9930\n",
            "225/225 [==============================] - 2s 9ms/step - loss: 0.0090 - accuracy: 0.9979\n",
            "[0.9880272746086121, 0.9979117512702942]\n",
            "i = 2 >>>>>> Test Index: 14368 - 21551\n",
            "562/562 [==============================] - 78s 138ms/step - loss: 0.0088 - accuracy: 0.9977\n",
            "225/225 [==============================] - 3s 11ms/step - loss: 0.0033 - accuracy: 0.9996\n",
            "[0.9880272746086121, 0.9979117512702942, 0.9995823502540588]\n",
            "i = 3 >>>>>> Test Index: 21552 - 28734\n",
            "562/562 [==============================] - 80s 142ms/step - loss: 0.0048 - accuracy: 0.9989\n",
            "225/225 [==============================] - 2s 10ms/step - loss: 0.0050 - accuracy: 0.9983\n",
            "[0.9880272746086121, 0.9979117512702942, 0.9995823502540588, 0.9983291625976562]\n",
            "i = 4 >>>>>> Test Index: 28735 - 35917\n",
            "449/449 [==============================] - 61s 135ms/step - loss: 0.0044 - accuracy: 0.9990\n",
            "225/225 [==============================] - 3s 13ms/step - loss: 0.0037 - accuracy: 0.9986\n",
            "[0.9880272746086121, 0.9979117512702942, 0.9995823502540588, 0.9983291625976562, 0.9986076354980469]\n"
          ]
        }
      ]
    },
    {
      "cell_type": "code",
      "source": [
        "np.array(scores).mean()"
      ],
      "metadata": {
        "colab": {
          "base_uri": "https://localhost:8080/"
        },
        "id": "MbtCb_fgTr9n",
        "outputId": "5f7ebc8e-a4fa-471e-e4dd-b430272cbd09"
      },
      "execution_count": null,
      "outputs": [
        {
          "output_type": "execute_result",
          "data": {
            "text/plain": [
              "0.9964916348457337"
            ]
          },
          "metadata": {},
          "execution_count": 10
        }
      ]
    },
    {
      "cell_type": "markdown",
      "source": [
        "# Evaluate on Testing data"
      ],
      "metadata": {
        "id": "_e9-4_JbFiU9"
      }
    },
    {
      "cell_type": "code",
      "source": [
        "test_score = model.evaluate(X_test_t, y_test)[1]\n",
        "print(test_score)"
      ],
      "metadata": {
        "colab": {
          "base_uri": "https://localhost:8080/"
        },
        "id": "s5ax8F7_1Ccp",
        "outputId": "93c89810-2943-44e5-c7a1-e23094acaa46"
      },
      "execution_count": null,
      "outputs": [
        {
          "output_type": "stream",
          "name": "stdout",
          "text": [
            "281/281 [==============================] - 3s 11ms/step - loss: 0.0449 - accuracy: 0.9889\n",
            "0.9888641238212585\n"
          ]
        }
      ]
    },
    {
      "cell_type": "code",
      "source": [
        "pred = model.predict(X_test_t)\n",
        "pred = np.rint(pred)\n",
        "\n",
        "confusion_matrix = metrics.confusion_matrix(y_true=y_test, y_pred=pred)\n",
        "\n",
        "cm_display = metrics.ConfusionMatrixDisplay(confusion_matrix = confusion_matrix, display_labels = ['Fake', 'Real'])\n",
        "\n",
        "cm_display.plot()\n",
        "plt.show()"
      ],
      "metadata": {
        "colab": {
          "base_uri": "https://localhost:8080/",
          "height": 466
        },
        "id": "PkX1H50GeP44",
        "outputId": "63d7937e-2f53-4467-ad5b-f1ba437818ad"
      },
      "execution_count": null,
      "outputs": [
        {
          "output_type": "stream",
          "name": "stdout",
          "text": [
            "281/281 [==============================] - 3s 10ms/step\n"
          ]
        },
        {
          "output_type": "display_data",
          "data": {
            "text/plain": [
              "<Figure size 640x480 with 2 Axes>"
            ],
            "image/png": "[encoded data removed]"
          },
          "metadata": {}
        }
      ]
    },
    {
      "cell_type": "code",
      "source": [
        "confusion_matrix"
      ],
      "metadata": {
        "colab": {
          "base_uri": "https://localhost:8080/"
        },
        "id": "m19Jl_ol5HcW",
        "outputId": "c2573e9e-59eb-4f59-e8a1-1de4bcdbef88"
      },
      "execution_count": null,
      "outputs": [
        {
          "output_type": "execute_result",
          "data": {
            "text/plain": [
              "array([[4679,   33],\n",
              "       [  67, 4201]])"
            ]
          },
          "metadata": {},
          "execution_count": 13
        }
      ]
    },
    {
      "cell_type": "code",
      "source": [
        "pred = pred.astype(int)"
      ],
      "metadata": {
        "id": "mpCC9SwDXevs"
      },
      "execution_count": null,
      "outputs": []
    },
    {
      "cell_type": "code",
      "source": [
        "results_df = pd.DataFrame({\"y_true\": y_test, \"y_pred\": pred.flatten()}, index=y_test.index)"
      ],
      "metadata": {
        "id": "lArCWAmJU1LE"
      },
      "execution_count": null,
      "outputs": []
    },
    {
      "cell_type": "code",
      "source": [
        "# Filter the DataFrame for each category\n",
        "TN = results_df[(results_df[\"y_true\"] == 0) & (results_df[\"y_pred\"] == 0)]\n",
        "FP = results_df[(results_df[\"y_true\"] == 0) & (results_df[\"y_pred\"] == 1)]\n",
        "FN = results_df[(results_df[\"y_true\"] == 1) & (results_df[\"y_pred\"] == 0)]\n",
        "TP = results_df[(results_df[\"y_true\"] == 1) & (results_df[\"y_pred\"] == 1)]\n",
        "\n",
        "# Extract sample indices for each category\n",
        "TN_sample = TN.sample(1).index[0]\n",
        "FP_sample = FP.sample(1).index[0]\n",
        "FN_sample = FN.sample(1).index[0]\n",
        "TP_sample = TP.sample(1).index[0]\n",
        "\n",
        "print(\"TN sample:\", X_test[TN_sample])\n",
        "print(\"FP sample:\", X_test[FP_sample])\n",
        "print(\"FN sample:\", X_test[FN_sample])\n",
        "print(\"TP sample:\", X_test[TP_sample])"
      ],
      "metadata": {
        "colab": {
          "base_uri": "https://localhost:8080/"
        },
        "id": "gQKqtrsDUQng",
        "outputId": "5bd76dd0-9880-41dc-a777-868ba4c93bd4"
      },
      "execution_count": null,
      "outputs": [
        {
          "output_type": "stream",
          "name": "stdout",
          "text": [
            "TN sample: On September 5, 2017, the Daily Mail reported:Afghan asylum seeker accused of raping and murdering EU official s teenage daughter  attacked her to satisfy his sexual urges before leaving her unconscious in a river to drown Hussein Khavari, 22, who claims to be from Afghanistan has been accused of ambushing Maria Ladenburger, 19, as she cycled home after a party, raping her and then drowning her in Freiburg, Germany last October.He was linked through his DNA to medical student Maria, who volunteered at various shelters that house migrants in her spare time in Freiburg.Hussein claimed to be Afghani but the court heard that there is evidence he is Iraqi. And his claim to be 17 at the time of the offense was disputed by a specialist saying he was at least 22. According to Bild newspaper, during a morning session of hearings in which press and public were excluded, he claimed to be 19.He said he claimed to be 16 upon his arrival in Germany in 2015  because the situation is better here for underage migrants.  The court must decide if he is to be tried as a juvenile or an adult.A murder conviction as a juvenile would mean a maximum ten-year jail term, as an adult a possible life sentence.As it turns out, the fake  teenager  who admitted to raping and murdering the actual teenager, is pretty far removed from his teenage years. According to the Voice of Europe,  the Afghan refugee, who is now on trial for the rape and murder of the medical student Maria Ladenburger in October 2016, is older than previously thought.Hussein Khavari entered Germany in November 2015 without identity papers. He told authorities that he was born in 1999 in Afghanistan and that his father was killed during the war.But it now appears that his father is still alive. According to German media source, Bil.de, his father said his son was born in 1984 and that he is 33-years-old.The Local Germany says about it:  Prosecutors were able to track down Hussein K. s father when they came across a contact on his mobile phone. The defendant told them that they could contact his mother on the number. But when an interpreter called the number in the presence of two judges, the person who picked up was his father .Maria Ladenburger s father is a senior legal adviser to the European Commission in Brussels. Maria herself was volunteering as a refugee worker in various shelters and asylum homes.  GERMANY: Afghan “Teen” Refugee Who RAPED and KILLED Female Med Student and Refugee Volunteer Is Actually 33-Years Old…And There’s MORE!\n",
            "FP sample: It apparently wasn t shocking enough when the American taxpayer found out the Obama regime spent $500 million to put  four or five  fighters on the ground in Syria. This latest news just adds insult to injury A Syrian rebel commander who recently completed a U.S. training program has told the U.S. military that he surrendered six coalition-provided trucks and ammunition to an intermediary linked to the al-Qaida affiliate in Syria, known as the Nusra Front. U.S. Central Command said late Friday that roughly 25 percent of the equipment assigned to that unit was apparently turned over earlier this week in exchange for safe passage within the region.U.S. officials said the Syrians continue to insist that they have not relinquished any actual weapons to the Nusra Front and that all of their personnel are still accounted for.Air Force Col. Pat Ryder, a U.S. Central Command spokesman, said the command is looking into the incident.But the report contradicts information the Defense Department provided earlier in the day, which said reports of U.S.-trained Syrian rebels defecting and missing equipment going to the Nusra Front were incorrect.The report underscores persistent problems with the U.S.-led coalition s effort to train and equip Syrian rebels to fight the Islamic State.Ryder said the Syrians had told the U.S. earlier Friday that no equipment or people were missing, but the U.S. found out later on that some of those assertions were wrong.He said providing equipment to the Nusra Front is a violation of the training and equipping program. In light of this new information, we wanted to ensure the public was informed as quickly as possible about the facts as we know them at this time,  Ryder said. We are using all means at our disposal to look into what exactly happened and determine the appropriate response. Via: UK Daily MailHere s what Republican candidate,Senator Rand Paul(R-K) thinks of our involvement in Syria (start at the 6:45 mark) :  US Spends Over $500 Million To Train Syrian Rebels And Give Them Weapons To Fight Assad…What They Did With Those Weapons Will Infuriate You\n",
            "FN sample: WASHINGTON (Reuters) - Republican Senator Rand Paul on Tuesday threatened to vote ‘no’ on a budget resolution Republican leaders aim to bring up for a vote this week unless they decide to stick with spending caps, potentially putting the party’s tax cut plans at risk. “I have told the White House and (Republican) leaders that if they simply stick to their own caps, the rest of the budget is fine and I’ll vote yes,” Paul wrote on Twitter. “It is a simple, but important, change they could easily make. The ball is in their court.” Republican leaders can afford to lose only two Republican votes on the budget plan, which would pave the way for large-scale tax cuts, if Democrats remain united in opposition. With Senator Thad Cochran out of town for health reasons, a defection by Paul would leave the vote on a razor’s edge.  Republican Senator Paul threatens 'no' vote on budget plan\n",
            "TP sample: NEW YORK (Reuters) - New York Governor Andrew Cuomo and New Jersey Governor Chris Christie said on Tuesday they will replace two top executives at the powerful bi-state agency that controls many of the region’s most critical transportation assets. Port Authority of New York and New Jersey Executive Director Pat Foye, whom Cuomo appointed to the authority in 2011, and Chairman John Degnan, whom Christie appointed in 2014, are leaving. The shakeup comes amid a struggle to find a chief executive officer. This is a new position created under reforms intended to clean up the agency after the “Bridgegate” scandal raised questions of political meddling. Resuming the CEO search will be “one of the first priorities” for the incoming officers, Cuomo and Christie said in a joint statement. Replacing Foye is Rick Cotton, Cuomo’s special counsel since January 2015 who has overseen some of the governor’s highest profile infrastructure projects. Those projects include a replacement for the Tappan Zee Bridge, a $4 billion public-private partnership to renovate LaGuardia Airport’s central terminal and the transformation of an historic post office into a grand waiting hall for Pennsylvania Station, the busiest transport hub in the nation. Tapped to lead the board is Kevin O’Toole, a lawyer, Christie ally and former long-time state senator who joined the board in March. O’Toole and Cotton are expected to be sworn in at a special meeting of the Port Authority board on Thursday. The authority has been slow to fully adopt governance changes after the Bridgegate controversy. In 2013, a former Port Authority executive, David Wildstein, shut down lanes at the George Washington Bridge to cause massive traffic jams as punishment for a local mayor who declined to support Christie’s gubernatorial re-election bid. In his resignation letter to Christie on Tuesday, Chairman Degnan said he was “disappointed” that the CEO position has not yet been implemented. He highlighted changes including posting board meeting agendas and materials online well in advance, allowing the public to comment before board votes, and new guidelines on recusals and oversight. Degnan had championed a replacement for the authority’s crumbling 42nd Street bus terminal in Manhattan, helping to secure about $3.5 billion for the project in the authority’s latest capital plan. Degnan told Reuters in an email that he did not have specific plans other to “increase my attention to nonprofit boards I sit on and watch my grandchildren grow up.”  New York, New Jersey governors replace Port Authority leadership\n"
          ]
        }
      ]
    },
    {
      "cell_type": "code",
      "source": [
        "with open('samples.txt', 'w') as f:\n",
        "    f.write(f'TN = {X_test[TN_sample]} \\n \\n \\n FP = {X_test[FP_sample]}\\n \\n \\n FN ={X_test[FN_sample]} \\n \\n \\n TP ={X_test[TP_sample]}')"
      ],
      "metadata": {
        "id": "9aJjjfuCpOLT"
      },
      "execution_count": null,
      "outputs": []
    },
    {
      "cell_type": "code",
      "source": [
        "cm = confusion_matrix\n",
        "accuracy = np.sum(np.diag(cm)) / np.sum(cm)\n",
        "print('Accuracy: {:.3f}'.format(accuracy))\n",
        "precision = cm[1, 1] / (cm[1, 1] + cm[0, 1])\n",
        "print('Precision: {:.3f}'.format(precision))\n",
        "recall = cm[1, 1] / (cm[1, 1] + cm[1, 0])\n",
        "print('Recall: {:.3f}'.format(recall))\n",
        "f1_score = 2 * (precision * recall) / (precision + recall)\n",
        "print('F1 score: {:.3f}'.format(f1_score))"
      ],
      "metadata": {
        "colab": {
          "base_uri": "https://localhost:8080/"
        },
        "id": "U7hTmxe5Rodn",
        "outputId": "e4cc4455-b06a-4b9f-c69b-dfec9653c045"
      },
      "execution_count": null,
      "outputs": [
        {
          "output_type": "stream",
          "name": "stdout",
          "text": [
            "Accuracy: 0.989\n",
            "Precision: 0.992\n",
            "Recall: 0.984\n",
            "F1 score: 0.988\n"
          ]
        }
      ]
    },
    {
      "cell_type": "code",
      "source": [
        "from sklearn.metrics import  roc_curve,auc\n",
        "\n",
        "fpr, tpr, _ = roc_curve(y_test, pred)\n",
        "\n",
        "plt.plot(fpr, tpr, label='SVM')\n",
        "plt.xlabel('False Positive Rate')\n",
        "plt.ylabel('True Positive Rate')\n",
        "plt.title('ROC Curve')\n",
        "plt.show()"
      ],
      "metadata": {
        "colab": {
          "base_uri": "https://localhost:8080/",
          "height": 472
        },
        "id": "28io5g28RvqF",
        "outputId": "2574b7b4-a677-4d63-87bb-d95428f25ed8"
      },
      "execution_count": null,
      "outputs": [
        {
          "output_type": "display_data",
          "data": {
            "text/plain": [
              "<Figure size 640x480 with 1 Axes>"
            ],
            "image/png": "[encoded data removed]"
          },
          "metadata": {}
        }
      ]
    },
    {
      "cell_type": "code",
      "source": [
        "fpr, tpr"
      ],
      "metadata": {
        "colab": {
          "base_uri": "https://localhost:8080/"
        },
        "id": "gKnO9C__-mjh",
        "outputId": "b9111d3c-b363-468e-90d8-05a6af503cfd"
      },
      "execution_count": null,
      "outputs": [
        {
          "output_type": "execute_result",
          "data": {
            "text/plain": [
              "(array([0.       , 0.0070034, 1.       ]),\n",
              " array([0.        , 0.98430178, 1.        ]))"
            ]
          },
          "metadata": {},
          "execution_count": 20
        }
      ]
    },
    {
      "cell_type": "markdown",
      "source": [
        "# Testing on another Dataset"
      ],
      "metadata": {
        "id": "V2mJHHzbsSOQ"
      }
    },
    {
      "cell_type": "code",
      "source": [
        "test_dataset = pd.read_csv(\"/content/drive/MyDrive/Deep Learning/Dataset/f_r_news.csv\")"
      ],
      "metadata": {
        "id": "rTUJH2gpkXXh"
      },
      "execution_count": null,
      "outputs": []
    },
    {
      "cell_type": "code",
      "source": [
        "test_dataset['text'] = test_dataset['text'] + \" \" + test_dataset['title']\n",
        "del test_dataset[\"Unnamed: 0\"]\n",
        "del test_dataset[\"title\"]"
      ],
      "metadata": {
        "id": "3xBn9pl_sx4e"
      },
      "execution_count": null,
      "outputs": []
    },
    {
      "cell_type": "code",
      "source": [
        "test_dataset[\"label\"] = test_dataset[\"label\"].replace({\"FAKE\": 0, \"REAL\": 1})"
      ],
      "metadata": {
        "id": "yC46NZV6tM8E"
      },
      "execution_count": null,
      "outputs": []
    },
    {
      "cell_type": "code",
      "source": [
        "test_dataset.head"
      ],
      "metadata": {
        "colab": {
          "base_uri": "https://localhost:8080/"
        },
        "id": "5ygoEVYTs_3M",
        "outputId": "db71d227-e5b8-438c-934a-f17131262f65"
      },
      "execution_count": null,
      "outputs": [
        {
          "output_type": "execute_result",
          "data": {
            "text/plain": [
              "<bound method NDFrame.head of                                                    text  label\n",
              "0     Daniel Greenfield, a Shillman Journalism Fello...      0\n",
              "1     Google Pinterest Digg Linkedin Reddit Stumbleu...      0\n",
              "2     U.S. Secretary of State John F. Kerry said Mon...      1\n",
              "3     — Kaydee King (@KaydeeKing) November 9, 2016 T...      0\n",
              "4     It's primary day in New York and front-runners...      1\n",
              "...                                                 ...    ...\n",
              "6330  The State Department told the Republican Natio...      1\n",
              "6331  The ‘P’ in PBS Should Stand for ‘Plutocratic’ ...      0\n",
              "6332   Anti-Trump Protesters Are Tools of the Oligar...      0\n",
              "6333  ADDIS ABABA, Ethiopia —President Obama convene...      1\n",
              "6334  Jeb Bush Is Suddenly Attacking Trump. Here's W...      1\n",
              "\n",
              "[6335 rows x 2 columns]>"
            ]
          },
          "metadata": {},
          "execution_count": 24
        }
      ]
    },
    {
      "cell_type": "code",
      "source": [
        "X = test_dataset.text"
      ],
      "metadata": {
        "id": "4XjvFuMhQVfm"
      },
      "execution_count": null,
      "outputs": []
    },
    {
      "cell_type": "code",
      "source": [
        "X_test_new = tokenizer.texts_to_sequences(test_dataset.text)\n",
        "X_test_new = pad_sequences(X_test_new, maxlen=maxlen)\n",
        "y_test_new = test_dataset[\"label\"]"
      ],
      "metadata": {
        "id": "-4X_4USCuLys"
      },
      "execution_count": null,
      "outputs": []
    },
    {
      "cell_type": "code",
      "source": [
        "test_score = model.evaluate(X_test_new,y_test_new )[1]\n",
        "print(test_score)"
      ],
      "metadata": {
        "colab": {
          "base_uri": "https://localhost:8080/"
        },
        "id": "64SNJABTt9h9",
        "outputId": "0ae15d00-c315-48c4-d796-d11ece886aca"
      },
      "execution_count": null,
      "outputs": [
        {
          "output_type": "stream",
          "name": "stdout",
          "text": [
            "198/198 [==============================] - 2s 9ms/step - loss: 2.1338 - accuracy: 0.5927\n",
            "0.5927387475967407\n"
          ]
        }
      ]
    },
    {
      "cell_type": "code",
      "source": [
        "pred = model.predict(X_test_new)\n",
        "pred = np.rint(pred)\n",
        "\n",
        "confusion_matrix = metrics.confusion_matrix(y_true=y_test_new, y_pred=pred)\n",
        "\n",
        "cm_display = metrics.ConfusionMatrixDisplay(confusion_matrix = confusion_matrix, display_labels = ['Fake', 'Real'])\n",
        "\n",
        "cm_display.plot()\n",
        "plt.show()"
      ],
      "metadata": {
        "colab": {
          "base_uri": "https://localhost:8080/",
          "height": 466
        },
        "id": "ugFjrzbAvDRb",
        "outputId": "708cdc40-a559-47fb-adb9-9b157d6794cd"
      },
      "execution_count": null,
      "outputs": [
        {
          "output_type": "stream",
          "name": "stdout",
          "text": [
            "198/198 [==============================] - 2s 9ms/step\n"
          ]
        },
        {
          "output_type": "display_data",
          "data": {
            "text/plain": [
              "<Figure size 640x480 with 2 Axes>"
            ],
            "image/png": "[encoded data removed]"
          },
          "metadata": {}
        }
      ]
    },
    {
      "cell_type": "code",
      "source": [
        "pred = pred.astype(int)\n",
        "results_df = pd.DataFrame({\"y_true\": y_test_new, \"y_pred\": pred.flatten()}, index=y_test_new.index)\n",
        "\n",
        "# Filter the DataFrame for each category\n",
        "TN = results_df[(results_df[\"y_true\"] == 0) & (results_df[\"y_pred\"] == 0)]\n",
        "FP = results_df[(results_df[\"y_true\"] == 0) & (results_df[\"y_pred\"] == 1)]\n",
        "FN = results_df[(results_df[\"y_true\"] == 1) & (results_df[\"y_pred\"] == 0)]\n",
        "TP = results_df[(results_df[\"y_true\"] == 1) & (results_df[\"y_pred\"] == 1)]\n",
        "\n",
        "# Extract sample indices for each category\n",
        "TN_sample = TN.sample(1).index[0]\n",
        "FP_sample = FP.sample(1).index[0]\n",
        "FN_sample = FN.sample(1).index[0]\n",
        "TP_sample = TP.sample(1).index[0]\n",
        "\n",
        "print(\"TN sample:\", X[TN_sample])\n",
        "print(\"FP sample:\", X[FP_sample])\n",
        "print(\"FN sample:\", X[FN_sample])\n",
        "print(\"TP sample:\", X[TP_sample])\n",
        "\n",
        "with open('samples_test_dataset.txt', 'w') as f:\n",
        "    f.write(f'TN = {X[TN_sample]} \\n \\n \\n FP = {X[FP_sample]}\\n \\n \\n FN ={X[FN_sample]} \\n \\n \\n\\n \\n \\n TP ={X[TP_sample]} ')"
      ],
      "metadata": {
        "colab": {
          "base_uri": "https://localhost:8080/"
        },
        "id": "rDaIcfNYK8gR",
        "outputId": "60f9ce5e-55d6-448f-b693-8ba0f7e4f3ee"
      },
      "execution_count": null,
      "outputs": [
        {
          "output_type": "stream",
          "name": "stdout",
          "text": [
            "TN sample: - < “You Ruined Your Own Communities, Don’t Ruin Ours”–Chicago Whites Demonstrate Against Black Lives Matter After Black Shot > November 8, 2016, 10:08 am A+ | a- Warning   \n",
            "Commenter Muse points out that last weekend there was a cops-shoot-black-man-in-white-neighborhood story that would have been huge national news a few months ago, especially because local whites counterdemonstrated against Black Lives Matter with signs such as: \n",
            "You ruined your own communities \n",
            "Don’t ruin ours \n",
            "#BlueLivesMatter \n",
            "But this news is being sat on by the national press. Muse writes: \n",
            "Over the weekend in Chicago, an off duty fireman approached a car that was blocking the entrance to a firehouse. A dispute ensued, and two off duty policemen became involved and the African American driver was shot to death. He reportedly was brandishing a gun. Crickets from the national media. Here we have a cop shooting a black man, and all of a sudden no one except local Chicago media wants to talk about it. Who called the dogs off on election night eve? \n",
            "Mt. Greenwood is an interesting neighborhood. Mostly ethnic Irish city workers. Cops, fireman, Streets and San (water department) etc. These are the best jobs in the metropolitan area for the blue collar workers, but they have to live in the city due to the residency requirement for Chicago workers. They have nowhere else to go on he southside, so it looks like they are making a stand. There was a face off yesterday between local residents and BLM yesterday. “You Ruined Your Own Communities, Don’t Ruin Ours”–Chicago Whites Demonstrate Against Black Lives Matter After Black Shot\n",
            "FP sample: Selling ‘Regime Change’ Wars to the Masses October 28, 2016 \n",
            "Propaganda is now such a pervasive part of Western governance that any foreign leader who resists the prevailing power structure can be turned into a demon and made a target of a “regime change” war, explains John Pilger. \n",
            "By John Pilger \n",
            "American journalist Edward Bernays is often described as the man who invented modern propaganda. The nephew of Sigmund Freud, the pioneer of psychoanalysis, it was Bernays who coined the term “public relations” as a euphemism for spin and its deceptions. \n",
            "In 1929, as a publicist for the cigarette industry, Bernays persuaded feminists to promote cigarettes for women by smoking in the New York Easter Parade – behavior then considered outlandish. One feminist, Ruth Booth, declared, “Women! Light another torch of freedom! Fight another sex taboo!” Edward Bernays, a pioneer in the modern use of propaganda. \n",
            "Bernays’s influence extended far beyond advertising. His greatest success was his role in convincing the American public to join the slaughter of the First World War. The secret, he said, was “engineering the consent” of people in order to “control and regiment [them] according to our will without their knowing about it.” \n",
            "He described this as “the true ruling power in our society” and called it an “invisible government.” \n",
            "Today, the invisible government has never been more powerful and less understood. In my career as a journalist and filmmaker, I have never known propaganda to insinuate our lives and as it does now and to go unchallenged. \n",
            "Tale of Two Cities \n",
            "Imagine two cities. Both are under siege by the forces of the government of that country. Both cities are occupied by fanatics, who commit terrible atrocities, such as beheading people. But there is a vital difference. In one siege, the government soldiers are described as liberators by Western reporters embedded with them, who enthusiastically report their battles and air strikes. There are front-page pictures of these heroic soldiers giving a V-sign for victory. There is scant mention of civilian casualties. Samantha Power, Permanent Representative of the United States to the UN, addresses the Security Council meeting on Syria, Sept. 25, 2016 (UN Photo) \n",
            "In the second city – in another country nearby – almost exactly the same is happening. Government forces are laying siege to a city controlled by the same breed of fanatics. \n",
            "The difference is that these fanatics are supported, supplied and armed by “us” – by the United States and Britain. They even have a media center that is funded by Britain and America. \n",
            "Another difference is that the government soldiers laying siege to this city are the “bad guys,” condemned for assaulting and bombing the city – which is exactly what the good soldiers do in the first city. \n",
            "Confusing? Not really. Such is the basic double standard that is the essence of propaganda. I am referring, of course, to the current siege of the city of Mosul by the government forces of Iraq, who are backed by the United States and Britain, and to the siege of Aleppo by the government forces of Syria, backed by Russia. One is good; the other is bad. \n",
            "Behind the Fanatics \n",
            "What is seldom reported is that both cities would not be occupied by fanatics and ravaged by war if Britain and the United States had not invaded Iraq in 2003. That criminal enterprise was launched on lies strikingly similar to the propaganda that now distorts our understanding of the civil war in Syria. U.S.-backed Syrian “moderate” rebels smile as they prepare to behead a 12-year-old boy (left), whose severed head is held aloft triumphantly in a later part of the video. [Screenshot from the YouTube video] Without this drumbeat of propaganda dressed up as news, the monstrous ISIS and Al Qaeda and the Nusra Front and the rest of the jihadist gang might not exist, and the people of Syria might not be fighting for their lives today.\n",
            "Some may remember in 2003 a succession of BBC reporters turning to the camera and telling us that British Prime Minister Tony Blair was “vindicated” for what turned out to be the crime of the century, the invasion of Iraq. The U.S. television networks produced the same validation for George W. Bush. Fox News brought on former Secretary of State Henry Kissinger to effuse over then-Secretary of State Colin Powell’s fabrications. \n",
            "The same year, soon after the invasion, I filmed an interview in Washington with Charles Lewis, the renowned American investigative journalist. I asked him, “What would have happened if the freest media in the world had seriously challenged what turned out to be crude propaganda?” \n",
            "He replied that if journalists had done their job, “there is a very, very good chance we would not have gone to war in Iraq.” \n",
            "It was a shocking statement, and one supported by other famous journalists to whom I put the same question — Dan Rather of CBS, David Rose of the Observer, and journalists and producers in the BBC, who wished to remain anonymous. \n",
            "In other words, had journalists done their job, had they challenged and investigated the propaganda instead of amplifying it, hundreds of thousands of men, women and children would be alive today, and there would be no ISIS and no siege of Aleppo or Mosul. \n",
            "There would have been no atrocity on the London Underground on July 7, 2005. There would have been no flight of millions of refugees; there would be no miserable camps. \n",
            "When the terrorist atrocity happened in Paris last November, President Francoise Hollande immediately sent planes to bomb Syria – and more terrorism followed, predictably, the product of Hollande’s bombast about France being “at war” and “showing no mercy.” That state violence and jihadist violence feed off each other is the truth that no national leader has the courage to speak. \n",
            "“When the truth is replaced by silence,” said the Soviet dissident Yevtushenko, “the silence is a lie.” \n",
            "Punishing Independence \n",
            "The attack on Iraq, the attack on Libya, the attack on Syria happened because the leader in each of these countries was not a puppet of the West. The human rights record of a Saddam or a Gaddafi was irrelevant. They did not obey orders and surrender control of their country. Ousted Libyan leader Muammar Gaddafi shortly before he was murdered on Oct. 20, 2011. \n",
            "The same fate awaited Slobodan Milosevic once he had refused to sign an “agreement” that demanded the occupation of Serbia and its conversion to a market economy. His people were bombed, and he was prosecuted in The Hague. Independence of this kind is intolerable. \n",
            "As WikLeaks has revealed, it was only when the Syrian leader Bashar al-Assad in 2009 rejected an oil pipeline, running through his country from Qatar to Europe, that he was attacked. From that moment, the CIA planned to destroy the government of Syria with jihadist fanatics – the same fanatics currently holding the people of Mosul and eastern Aleppo hostage. \n",
            "Why is this not news? The former British Foreign Office official Carne Ross, who was responsible for operating sanctions against Iraq, told me: “We would feed journalists factoids of sanitized intelligence, or we would freeze them out. That is how it worked.” \n",
            "The West’s medieval client, Saudi Arabia – to which the U.S. and Britain sell billions of dollars’ worth of arms – is at present destroying Yemen, a country so poor that in the best of times, half the children are malnourished. \n",
            "Look on YouTube and you will see the kind of massive bombs – “our” bombs – that the Saudis use against dirt-poor villages, and against weddings, and funerals. The explosions look like small atomic bombs. The bomb aimers in Saudi Arabia work side-by-side with British officers. This fact is not on the evening news. \n",
            "Refined Messengers \n",
            "Propaganda is most effective when our consent is engineered by those with a fine education – Oxford, Cambridge, Harvard, Columbia – and with careers on the BBC, the Guardia n, the New York Times , the Washington Post . New York Times building in New York City. (Photo from Wikipedia) \n",
            "These organizations are known as the “liberal media.” They present themselves as enlightened, progressive tribunes of the moral zeitgeist. They are anti-racist, pro-feminist and pro-LGBT. And they love war. While they speak up for feminism, they support rapacious wars that deny the rights of countless women, including the right to life. \n",
            "In 2011, Libya, then a modern state, was destroyed on the pretext that Muammar Gaddafi was about to commit genocide on his own people. That was the incessant news; and there was no evidence. It was a lie. \n",
            "In fact, Britain, Europe and the United States wanted what they like to call “regime change” in Libya, the biggest oil producer in Africa. Gaddafi’s influence in the continent and, above all, his independence were intolerable. \n",
            "So Gaddafi was murdered with a knife in his rear by fanatics, backed by America, Britain and France. Hillary Clinton cheered his gruesome death for the camera, declaring, “We came, we saw, he died!” \n",
            "The destruction of Libya was a media triumph. As the war drums were beaten, Jonathan Freedland wrote in the Guardian : “Though the risks are very real, the case for intervention remains strong.” \n",
            "Intervention – what a polite, benign, Guardian word, whose real meaning, for Libya, was death and destruction. \n",
            "According to its own records, NATO launched 9,700 “strike sorties” against Libya, of which more than a third were aimed at civilian targets. They included missiles with uranium warheads. Look at the photographs of the rubble of Misurata and Sirte, and the mass graves identified by the Red Cross. The Unicef report on the children killed says, “most [of them] under the age of ten.” \n",
            "As a direct consequence, Sirte became a capital of ISIS. \n",
            "Ukraine is another media triumph. Respectable liberal newspapers such as the New York Times , the Washington Post and the Guardian , and mainstream broadcasters such as the BBC, NBC, CBS, CNN have played a critical role in conditioning their viewers to accept a new and \n",
            "dangerous Cold War. All have misrepresented events in Ukraine as a malign act by Russia when, in fact, the coup in Ukraine in 2014 was the work of the United States, aided by Germany and NATO. \n",
            "Inversion of Reality \n",
            "This inversion of reality is so pervasive that Washington’s military intimidation of Russia is not news; it is suppressed behind a smear-and-scare campaign of the kind I grew up with during the first Cold War. Once again, the Russkies are coming to get us, led by another Stalin, whom The Economist depicts as the devil. U.S. Secretary of State John Kerry, flanked by Assistant Secretary of State for European and Eurasian Affairs Victoria “Toria” Nuland, addresses Russian President Vladimir Putin in a meeting room at the Kremlin in Moscow, Russia, on July 14, 2016. [State Department Photo] The suppression of the truth about Ukraine is one of the most complete news blackouts I can remember. The fascists who engineered the coup in Kiev are the same breed that backed the Nazi invasion of the Soviet Union in 1941. Of all the scares about the rise of fascist anti-Semitism in Europe, no leader ever mentions the fascists in Ukraine – except Vladimir Putin, but he does not count.\n",
            "Many in the Western media have worked hard to present the ethnic Russian-speaking population of Ukraine as outsiders in their own country, as agents of Moscow, almost never as Ukrainians seeking a federation within Ukraine and as Ukrainian citizens resisting a foreign-orchestrated coup against their elected government. \n",
            "There is almost the joie d’esprit of a class reunion of warmongers. The drum-beaters of the Washington Post inciting war with Russia are the very same editorial writers who published the lie that Saddam Hussein had weapons of mass destruction. \n",
            "A Freak Show \n",
            "To most of us, the American presidential campaign is a media freak show, in which Donald Trump is the arch villain. But Trump is loathed by those with power in the United States for reasons that have little to do with his obnoxious behavior and opinions. Republican presidential candidate Donald Trump speaking to the AIPAC conference in Washington D.C. on   credit: AIPAC) \n",
            "To the invisible government in Washington, the unpredictable Trump is an obstacle to America’s design for the Twenty-first Century. This is to maintain the dominance of the United States and to subjugate Russia, and, if possible, China. \n",
            "To the militarists in Washington, the real problem with Trump is that, in his lucid moments, he seems not to want a war with Russia; he wants to talk with the Russian president, not fight him; he says he wants to talk with the president of China. \n",
            "In the first debate with Hillary Clinton, Trump promised not to be the first to introduce nuclear weapons into a conflict. He said, “I would certainly not do first strike. Once the nuclear alternative happens, it’s over.” That was not news. \n",
            "Did he really mean it? Who knows? He often contradicts himself. But what is clear is that Trump is considered a serious threat to the status quo maintained by the vast national security machine that runs the United States, regardless of who is in the White House. \n",
            "The CIA wants him beaten. The Pentagon wants him beaten. The media wants him beaten. Even his own party wants him beaten. He is a threat to the rulers of the world – unlike Hillary Clinton who has left no doubt she is prepared to go to war with nuclear-armed Russia and China. \n",
            "The Clinton Danger \n",
            "Clinton has the form, as she often boasts. Indeed, her record is proven. As a senator, she backed the bloodbath in Iraq. When she ran against Obama in 2008, she threatened to “totally obliterate” Iran. As Secretary of State, she colluded in the destruction of governments in Libya and Honduras and set in train the baiting of China. Former Secretary of State Hillary Clinton addressing the AIPAC conference in Washington D.C. on   credit: AIPAC) \n",
            "She has now pledged to support a “no-fly zone” in Syria – a direct provocation for war with Russia. Clinton may well become the most dangerous president of the United States in my lifetime – a distinction for which the competition is fierce. \n",
            "Without a shred of public evidence, Clinton has accused Russia of supporting Trump and hacking her emails. Released by WikiLeaks, these emails tell us that what Clinton says in private, in speeches to the rich and powerful, is the opposite of what she says in public. \n",
            "That is why silencing and threatening Julian Assange is so important. As the editor of WikiLeaks, Assange knows the truth. And let me assure those who are concerned, he is well, and WikiLeaks is operating on all cylinders. \n",
            "Today, the greatest build-up of American-led forces since World War Two is under way – in the Caucasus and Eastern Europe, on the border with Russia, and in Asia and the Pacific, where China is the target. \n",
            "Keep that in mind when the presidential election circus reaches its finale on Nov. 8. If the winner is Clinton, a Greek chorus of witless commentators will celebrate her coronation as a great step forward for women. None will mention Clinton’s victims: the women of Syria, the women of Iraq, the women of Libya. None will mention the civil defense drills being conducted in Russia. None will recall Edward Bernays’s “torches of freedom.” \n",
            "Scott McClellan, who had been George W. Bush’s press spokesman, once called the media “complicit enablers.” Coming from a senior official in an administration whose lies, enabled by the media, caused such suffering, that description is a warning from history. \n",
            "In 1946, the Nuremberg Tribunal prosecutor said of the German media: “Before every major aggression, they initiated a press campaign calculated to weaken their victims and to prepare the German people psychologically for the attack. In the propaganda system, it was the daily press and the radio that were the most important weapons.” Selling ‘Regime Change’ Wars to the Masses\n",
            "FN sample: U.S. authorities said Friday there is no known threat to the American homeland in the wake of the deadly terror attacks in Paris, but cities across the country were taking precautions while intelligence officials expressed alarm over the methodology and planning that was evident behind the terrorist acts.\n",
            "\n",
            "More than 120 people were killed when a series of apparently coordinated shootings and explosions rocked Paris, which officials said evoked memories of the deadly 2008 terror attacks in Mumbai, India.\n",
            "\n",
            "\"The Department of Homeland Security and the Federal Bureau of Investigation are closely monitoring events in Paris and we are in contact with our counterparts in the region,\" Homeland Security Secretary Jeh Johnson said in a statement. \"At this time, we know of no specific or credible threats of an attack on the U.S. homeland of the type that occurred in Paris tonight.\"\n",
            "\n",
            "It is still unclear who was behind the attacks. One U.S. counterterrorism official told CNN that the attacks resemble tactics that have been used by a number of terror groups -- including al Qaeda's focus on mass casualty and visibility, and the small, tactical nature of attacks that are more the hallmark of ISIS and its acolytes.\n",
            "\n",
            "The official noted that Algerian terrorist groups have attacked in Paris in the past, though they don't have much capability to do what unfolded in Paris. Meanwhile, U.S. officials are still trying to determine if there are any U.S. connections with the terrorists or the victims and are working with their French counterparts to ensure there are no immediate threats to the U.S. Two additional U.S. counterterrorism officials told CNN that authorities across the U.S. have convened secure conference calls to try and gather information. And a federal law enforcement official said federal authorities are working with local police agencies around the country to task sources domestically and internationally for information about any individuals possibly associated with the attacks. They're also going back to look at whether there was any intelligence missed indicating these attacks were going to happen, the law enforcement official said, adding that the FBI is also putting additional personnel on standby to be deployed to France to offer any support such as bomb technicians and computer analysts. President Barack Obama, French President Francois Hollande, second from right, and Paris Mayor Anne Hidalgo arrive at the Bataclan, site of one of the Paris terrorists attacks, to pay their respects to the victims after Obama arrived in town for the COP21 climate change conference early on Monday, November 30, in Paris. The Eiffel Tower in Paris is illuminated in the French national colors on Monday, November 16. Displays of support for the French people were evident at landmarks around the globe after the deadly terrorist attacks in Paris on Friday, November 13. People hold hands as they observe a minute of silence in Lyon, France, on November 16, three days after the Paris attacks. A minute of silence was observed throughout the country in memory of the victims of the country's deadliest violence since World War II. French President Francois Hollande, center, flanked by French Prime Minister Manuel Valls, right, and French Education Minister Najat Vallaud-Belkacem, center left, stands among students during a minute of silence in the courtyard of the Sorbonne University in Paris on November 16. A large crowd gathers to lay flowers and candles in front of the Carillon restaurant in Paris on Sunday, November 15. A man sits next to candles lit as homage to the victims of the deadly attacks in Paris at a square in Rio de Janeiro on November 15. People light candles in tribute to the Paris victims on November 15 in Budapest, Hungary. People gather outside Notre Dame Cathedral in Paris on November 15 for a national service for the victims of the city's terror attacks. People write messages on the ground at Place de la Republique in Paris on November 15. People pray during a candlelight vigil for victims of the Paris attacks at a church in Islamabad, Pakistan, on November 15. French golfer Gregory Bourdy passes a peace symbol for the Paris victims during the BMW Shanghai Masters tournament November 15 in Shanghai, China. A man offers a prayer in memory of victims of the Paris attacks at the French Embassy in Tokyo on November 15. A woman holds a candle atop a miniature replica of the Eiffel Tower during a candlelight vigil Saturday, November 14, in Vancouver, British Columbia. Front pages of Japanese newspapers in Tokyo show coverage and photos of the Paris attacks on November 14. An electronic billboard on a canal in Milan, Italy reads, in French, \"I'm Paris,\" on November 14. The Eiffel Tower stands dark as a mourning gesture on November 14, in Paris. More than 125 people were killed in a series of coordinated attacks in Paris on Friday. People around the world reacted in horror to the deadly terrorist assaults. Lithuanians hold a candlelight vigil in front of the French Embassy in Vilnius, Lithuania, on November 14. Thousands gather in London's Trafalgar Square for a candlelit vigil on November 14 to honor the victims of the Paris attacks. A woman lights candles at a memorial near the Bataclan theater in Paris on November 14. A man places a candle in front of Le Carillon cafe in Paris on November 14. A woman holds a French flag during a gathering in Stockholm, Sweden, on November 14. Nancy Acevedo prays for France during the opening prayer for the Sunshine Summit being held at Rosen Shingle Creek in Orlando, Florida on November 14. French soldiers of the United Nations' interim forces in Lebanon observe the national flag at half-staff at the contingent headquarters in the village of Deir Kifa on November 14. A couple surveys the signature sails of the Sydney Opera House lit in the colors of the French flag in Sydney on November 14. A woman places flowers in front of the French Consulate in St. Petersburg, Russia, on November 14. Candles are lit in Hong Kong on November 14 to remember the scores who died in France. A woman lights a candle outside the French Consulate in Barcelona, Spain, on November 14. Britain's Prince Charles expresses solidarity with France at a birthday barbecue in his honor near Perth, Australia, on November 14. The French national flag flutters at half-staff on November 14 at its embassy in Beijing. Dutch Prime Minister Mark Rutte after a speech on November 14 in The Hague following the attacks. Japanese Prime Minister Shinzo Abe becomes emotional after his speech on the French attacks during the opening ceremony of a Japanese garden in Istanbul, Turkey, on November 14. A woman mourns outside Le Carillon bar in the 10th district of Paris on November 14. The attackers ruthlessly sought out soft targets where people were getting their weekends underway. People lay flowers outside the French Embassy in Moscow on November 14. Mourners gather outside Le Carillon bar in the 10th district of Paris on November 14. \"We were listening to music when we heard what we thought were the sounds of firecrackers,\" a doctor from a nearby hospital who was drinking in the bar with colleagues told Le Monde. \"A few moments later, it was a scene straight out of a war. Blood everywhere.\" People attend a vigil outside the French Consulate in Montreal. Prime Minister Justin Trudeau offered \"all of Canada's support\" to France on Friday, November 13, in the wake of the attacks. Police show a heightened presence in Times Square in New York on November 13, following the terrorist attacks in Paris. People light candles at a vigil outside the French Consulate in Montreal on November 13. University of Nevada, Las Vegas, fans observe a moment of silence for the victims of the terrorist attacks in Paris before a basketball game November 13. The house lights are shut off and scoreboard dark as Boston Celtics players pause for a moment of silence for the Paris victims before an NBA basketball game against the Atlanta Hawks in Boston on November 13. People light candles at a vigil outside the French Consulate in Montreal on November 13. One of the primary reasons for alarm among U.S. counterterrorism officials is the lack of relevant intelligence before the attacks began. Intelligence agencies are looking at communications intercepts for clues as to any advanced planning or coordination, a U.S. intelligence official said. The U.S. collects overseas communications in Europe and elsewhere, and in the past, such reviews have uncovered emails and other communications that show planning, the intelligence official added. Local police departments moved quickly to place units on extra alert. In Los Angeles, extra police were deployed at critical sites like airports. In Washington, enhanced patrols were sent near the Capitol. In New York City, the New York Police Department was giving special attention and increasing its presence at soft targets such as nightclubs, theaters and museums, along with locations tied to France, another federal law enforcement official said. Authorities are also scrutinizing known terror suspects in the U.S. and boosting surveillance of them, the law enforcement officials said. \"We will not hesitate to adjust our security posture, as appropriate, to protect the American people,\" an FBI spokesperson said in a statement. \"DHS and the FBI routinely share information with our state, local, federal and international law enforcement, intelligence and homeland security partners, and continually evaluate the level of protection we provide at federal facilities.\" Sign up for CNN Politics' Nightcap newsletter, serving up today's best and tomorrow's essentials in politics. U.S. officials: No known threat in wake of Paris attack\n",
            "TP sample: During the 1864 presidential race between Abraham Lincoln and George McClellan, The New York Times published an article that contained this sentence: \"We have had many important elections, but never one so important as that now approaching.\" Though there may have been some truth in this claim, three years into the Civil War means the Times was probably one election too late.\n",
            "\n",
            "In any event, every candidate or publication that's made comparable declarations since that time regarding the presidential contest being the \"most important\" election of their \"lifetime\" or their \"generation\" or \"in history\" or \"ever\" is completely full of it.\n",
            "\n",
            "That goes for Gerald Ford, who in a debate against Jimmy Carter claimed that the 1976 election was \"one of the most vital in the history of America.\" As it turns out, that was a contest between an accidental president and a highly ineffectual future president. And it wasn't even the most important election Carter would participate in.\n",
            "\n",
            "It also goes for Walter Mondale, who in 1984 told a crowd, \"This is the most important election of our lives.\" (Ronald Reagan lost a single state to Mondale, and the outcome was never really in doubt.) It goes for John Kerry, who in 2004 said, \"My fellow Americans, this is the most important election of our lifetime.\" It goes for Joe Biden and Barack Obama, both of whom claimed that 2008 was \"the most important election in my lifetime.\" It goes for Newt Gingrich, who said it in 2012. It goes also for the media that acted as if what they said were true.\n",
            "\n",
            "It certainly goes for Hillary Clinton and Donald Trump, neither of whom possess the requisite talent, vision or charisma needed to destroy this country in a mere four years. Yet on Tuesday in Dade City, Florida, Clinton finally stated what many in her party (from the president to students to 96-year-old Roger Angell) have been saying for months: \"I believe this may be the most important election of our lifetimes.\" For her, yes. For the rest of us, not so much.\n",
            "\n",
            "Judging from the histrionic rhetoric we hear daily, most people believe this is the most important election ever. Did you see the meltdown leftist media had after Clinton's ethical tribulations again threatened her chances at the White House? You'd think attacking Clinton were tantamount to attacking the very foundations of \"democracy.\"\n",
            "\n",
            "Partisans always seem to believe that everything that happens to them right now, at this very moment, is the most important thing that has ever happened or will ever happen to humanity.\n",
            "\n",
            "Yes, government's increasing involvement in the economic and moral lives of citizens has made political stakes high. It's true that 2016 features the two suckiest candidates probably ever. It's also true that our collective vision of the American project has frayed, perhaps beyond repair. With the intense scrutiny of contemporary political coverage, more people are invested in the daily grind of elections, which intensifies the sting of losing. This anger compounds every cycle (although winning brings its own disappointment with its unfulfilled promises).\n",
            "\n",
            "That's not to say our constitutional republic isn't slowly dying. It probably is. This condition isn't contingent on an election's outcome but on widespread problems with our institutions, politics and voters. Whatever you believe the future of governance should look like, one election is not going make or break it.\n",
            "\n",
            "In fact, when it comes to policy, it's far more likely that very little will change over the next four years—perhaps even less than changed with the election of Obama, who had two years of one-party rule before Republicans took back Congress. Last year, Bloomberg Businessweek ran a column headlined \"Why 2016 May Be the Most Important Election of Our Lifetime.\" Like many other similar pieces, it argues that as our politics become more polarized our elections become correspondingly more significant. But our growing divide might be exactly why 2016 turns out to be one of the least important elections in our lifetime.\n",
            "\n",
            "If providence (or dumb luck) takes mercy on the Constitution, Washington D.C.'s gridlock—an organic reflection of the nation's disposition—will remain the status quo.\n",
            "\n",
            "Actually, what am I talking about? That's exactly what the Constitution was built to do in a divided nation. The situation will render the next president weaker than most and somewhat contain his or her authoritarianism and poor judgment.\n",
            "\n",
            "This kind of frustrating environment is likely to cause more recrimination and, unfortunately, abuses of power that are meant to circumvent the congestion. Still, overall, it's better than partisan unilateralism. The situation will not change until we find competent people to put into the White House or politicians with ideas that have some crossover appeal. That time is not now.\n",
            "\n",
            "Of course, none of this is to completely diminish the importance of the presidential election. Obviously, voters are making a decision about the future of governance. Judges are at stake. Foreign policy is made. There are consequences. But if the republic can't survive a bad executive, then it's already dead. This Is the Least Important Election of Our Lifetimes\n"
          ]
        }
      ]
    },
    {
      "cell_type": "code",
      "source": [
        "cm = confusion_matrix\n",
        "accuracy = np.sum(np.diag(cm)) / np.sum(cm)\n",
        "print('Accuracy: {:.3f}'.format(accuracy))\n",
        "precision = cm[1, 1] / (cm[1, 1] + cm[0, 1])\n",
        "print('Precision: {:.3f}'.format(precision))\n",
        "recall = cm[1, 1] / (cm[1, 1] + cm[1, 0])\n",
        "print('Recall: {:.3f}'.format(recall))\n",
        "f1_score = 2 * (precision * recall) / (precision + recall)\n",
        "print('F1 score: {:.3f}'.format(f1_score))"
      ],
      "metadata": {
        "colab": {
          "base_uri": "https://localhost:8080/"
        },
        "id": "EuE6DxSBvvpt",
        "outputId": "5819aa28-1a37-4710-dffa-c093a8f78018"
      },
      "execution_count": null,
      "outputs": [
        {
          "output_type": "stream",
          "name": "stdout",
          "text": [
            "Accuracy: 0.593\n",
            "Precision: 0.600\n",
            "Recall: 0.558\n",
            "F1 score: 0.579\n"
          ]
        }
      ]
    },
    {
      "cell_type": "code",
      "source": [
        "cm"
      ],
      "metadata": {
        "colab": {
          "base_uri": "https://localhost:8080/"
        },
        "id": "-MyWsPSC1H4X",
        "outputId": "d888eeed-01ac-4503-c69b-9c2d634a31a5"
      },
      "execution_count": null,
      "outputs": [
        {
          "output_type": "execute_result",
          "data": {
            "text/plain": [
              "array([[1984, 1180],\n",
              "       [1400, 1771]])"
            ]
          },
          "metadata": {},
          "execution_count": 43
        }
      ]
    },
    {
      "cell_type": "code",
      "source": [
        "from sklearn.metrics import  roc_curve,auc\n",
        "\n",
        "fpr, tpr, _ = roc_curve(y_test_new, pred)\n",
        "\n",
        "plt.plot(fpr, tpr, label='SVM')\n",
        "plt.xlabel('False Positive Rate')\n",
        "plt.ylabel('True Positive Rate')\n",
        "plt.title('ROC Curve')\n",
        "plt.show()"
      ],
      "metadata": {
        "colab": {
          "base_uri": "https://localhost:8080/",
          "height": 472
        },
        "id": "G0iAfDTZvzbr",
        "outputId": "3ef69a40-1926-40a2-89b7-c024a0ac7e5b"
      },
      "execution_count": null,
      "outputs": [
        {
          "output_type": "display_data",
          "data": {
            "text/plain": [
              "<Figure size 640x480 with 1 Axes>"
            ],
            "image/png": "[encoded data removed]"
          },
          "metadata": {}
        }
      ]
    },
    {
      "cell_type": "code",
      "source": [
        "print(f'Area Under the Curve - {auc(fpr, tpr)}')"
      ],
      "metadata": {
        "colab": {
          "base_uri": "https://localhost:8080/"
        },
        "id": "jO66GbKcvNXO",
        "outputId": "6384623a-1c85-4f4c-f2a0-e64b502038ed"
      },
      "execution_count": null,
      "outputs": [
        {
          "output_type": "stream",
          "name": "stdout",
          "text": [
            "Area Under the Curve - 0.5927766289074382\n"
          ]
        }
      ]
    }
  ]
}